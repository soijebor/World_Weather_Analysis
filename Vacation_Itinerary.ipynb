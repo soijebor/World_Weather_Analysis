{
 "cells": [
  {
   "cell_type": "code",
   "execution_count": 1,
   "metadata": {},
   "outputs": [],
   "source": [
    "# Import the dependencies.\n",
    "import pandas as pd\n",
    "import gmaps\n",
    "import gmaps.datasets\n",
    "import requests\n",
    "# Import the API key.\n",
    "from config import g_key"
   ]
  },
  {
   "cell_type": "code",
   "execution_count": 2,
   "metadata": {},
   "outputs": [],
   "source": [
    "# Configure gmaps to use your Google API key.\n",
    "gmaps.configure(api_key=g_key)"
   ]
  },
  {
   "cell_type": "code",
   "execution_count": 3,
   "metadata": {},
   "outputs": [
    {
     "data": {
      "text/html": [
       "<div>\n",
       "<style scoped>\n",
       "    .dataframe tbody tr th:only-of-type {\n",
       "        vertical-align: middle;\n",
       "    }\n",
       "\n",
       "    .dataframe tbody tr th {\n",
       "        vertical-align: top;\n",
       "    }\n",
       "\n",
       "    .dataframe thead th {\n",
       "        text-align: right;\n",
       "    }\n",
       "</style>\n",
       "<table border=\"1\" class=\"dataframe\">\n",
       "  <thead>\n",
       "    <tr style=\"text-align: right;\">\n",
       "      <th></th>\n",
       "      <th>City_ID</th>\n",
       "      <th>City</th>\n",
       "      <th>Country</th>\n",
       "      <th>Max Temp</th>\n",
       "      <th>Current Description</th>\n",
       "      <th>Lat</th>\n",
       "      <th>Lng</th>\n",
       "      <th>Hotel Name</th>\n",
       "    </tr>\n",
       "  </thead>\n",
       "  <tbody>\n",
       "    <tr>\n",
       "      <th>0</th>\n",
       "      <td>7</td>\n",
       "      <td>Matara</td>\n",
       "      <td>LK</td>\n",
       "      <td>79.07</td>\n",
       "      <td>overcast clouds</td>\n",
       "      <td>5.95</td>\n",
       "      <td>80.54</td>\n",
       "      <td>Amaloh Boutique Resort</td>\n",
       "    </tr>\n",
       "    <tr>\n",
       "      <th>1</th>\n",
       "      <td>16</td>\n",
       "      <td>Adrar</td>\n",
       "      <td>MR</td>\n",
       "      <td>89.37</td>\n",
       "      <td>scattered clouds</td>\n",
       "      <td>20.50</td>\n",
       "      <td>-10.07</td>\n",
       "      <td>NaN</td>\n",
       "    </tr>\n",
       "    <tr>\n",
       "      <th>2</th>\n",
       "      <td>18</td>\n",
       "      <td>Kapaa</td>\n",
       "      <td>US</td>\n",
       "      <td>84.20</td>\n",
       "      <td>broken clouds</td>\n",
       "      <td>22.08</td>\n",
       "      <td>-159.32</td>\n",
       "      <td>Sheraton Kauai Resort at Coconut Beach</td>\n",
       "    </tr>\n",
       "    <tr>\n",
       "      <th>3</th>\n",
       "      <td>27</td>\n",
       "      <td>Gizo</td>\n",
       "      <td>SB</td>\n",
       "      <td>84.36</td>\n",
       "      <td>overcast clouds</td>\n",
       "      <td>-8.10</td>\n",
       "      <td>156.84</td>\n",
       "      <td>Imagination Island</td>\n",
       "    </tr>\n",
       "    <tr>\n",
       "      <th>4</th>\n",
       "      <td>30</td>\n",
       "      <td>Keningau</td>\n",
       "      <td>MY</td>\n",
       "      <td>78.80</td>\n",
       "      <td>few clouds</td>\n",
       "      <td>5.34</td>\n",
       "      <td>116.16</td>\n",
       "      <td>Sabindo Hotel</td>\n",
       "    </tr>\n",
       "  </tbody>\n",
       "</table>\n",
       "</div>"
      ],
      "text/plain": [
       "   City_ID      City Country  Max Temp Current Description    Lat     Lng  \\\n",
       "0        7    Matara      LK     79.07     overcast clouds   5.95   80.54   \n",
       "1       16     Adrar      MR     89.37    scattered clouds  20.50  -10.07   \n",
       "2       18     Kapaa      US     84.20       broken clouds  22.08 -159.32   \n",
       "3       27      Gizo      SB     84.36     overcast clouds  -8.10  156.84   \n",
       "4       30  Keningau      MY     78.80          few clouds   5.34  116.16   \n",
       "\n",
       "                               Hotel Name  \n",
       "0                  Amaloh Boutique Resort  \n",
       "1                                     NaN  \n",
       "2  Sheraton Kauai Resort at Coconut Beach  \n",
       "3                      Imagination Island  \n",
       "4                           Sabindo Hotel  "
      ]
     },
     "execution_count": 3,
     "metadata": {},
     "output_type": "execute_result"
    }
   ],
   "source": [
    "# Import the WeatherPy_vacation.csv file as a new DataFrame.\n",
    "vacation_data_df = pd.read_csv(\"weather_data/WeatherPy_vacation.csv\")\n",
    "vacation_data_df.head()"
   ]
  },
  {
   "cell_type": "code",
   "execution_count": 4,
   "metadata": {},
   "outputs": [
    {
     "data": {
      "text/plain": [
       "City_ID                  int64\n",
       "City                    object\n",
       "Country                 object\n",
       "Max Temp               float64\n",
       "Current Description     object\n",
       "Lat                    float64\n",
       "Lng                    float64\n",
       "Hotel Name              object\n",
       "dtype: object"
      ]
     },
     "execution_count": 4,
     "metadata": {},
     "output_type": "execute_result"
    }
   ],
   "source": [
    "vacation_data_df.dtypes"
   ]
  },
  {
   "cell_type": "code",
   "execution_count": 5,
   "metadata": {},
   "outputs": [],
   "source": [
    "# Filter the 'vacation_data_df' for the four cities.\n",
    "Baturaja_df= vacation_data_df.loc[vacation_data_df[\"City\"] == \"Baturaja\"]\n",
    "Bengkulu_df = vacation_data_df.loc[vacation_data_df[\"City\"] == \"Bengkulu\"] \n",
    "Padang_df = vacation_data_df.loc[vacation_data_df[\"City\"] == \"Padang\"]\n",
    "Japura_df = vacation_data_df.loc[vacation_data_df[\"City\"] == \"Japura\"]"
   ]
  },
  {
   "cell_type": "code",
   "execution_count": 6,
   "metadata": {
    "scrolled": true
   },
   "outputs": [
    {
     "data": {
      "text/html": [
       "<div>\n",
       "<style scoped>\n",
       "    .dataframe tbody tr th:only-of-type {\n",
       "        vertical-align: middle;\n",
       "    }\n",
       "\n",
       "    .dataframe tbody tr th {\n",
       "        vertical-align: top;\n",
       "    }\n",
       "\n",
       "    .dataframe thead th {\n",
       "        text-align: right;\n",
       "    }\n",
       "</style>\n",
       "<table border=\"1\" class=\"dataframe\">\n",
       "  <thead>\n",
       "    <tr style=\"text-align: right;\">\n",
       "      <th></th>\n",
       "      <th>City_ID</th>\n",
       "      <th>City</th>\n",
       "      <th>Country</th>\n",
       "      <th>Max Temp</th>\n",
       "      <th>Current Description</th>\n",
       "      <th>Lat</th>\n",
       "      <th>Lng</th>\n",
       "      <th>Hotel Name</th>\n",
       "    </tr>\n",
       "  </thead>\n",
       "  <tbody>\n",
       "    <tr>\n",
       "      <th>150</th>\n",
       "      <td>554</td>\n",
       "      <td>Baturaja</td>\n",
       "      <td>ID</td>\n",
       "      <td>76.46</td>\n",
       "      <td>few clouds</td>\n",
       "      <td>-4.13</td>\n",
       "      <td>104.17</td>\n",
       "      <td>HOTEL Sekar Sunja, Baturaja Timur, Ogan Komeri...</td>\n",
       "    </tr>\n",
       "  </tbody>\n",
       "</table>\n",
       "</div>"
      ],
      "text/plain": [
       "     City_ID      City Country  Max Temp Current Description   Lat     Lng  \\\n",
       "150      554  Baturaja      ID     76.46          few clouds -4.13  104.17   \n",
       "\n",
       "                                            Hotel Name  \n",
       "150  HOTEL Sekar Sunja, Baturaja Timur, Ogan Komeri...  "
      ]
     },
     "execution_count": 6,
     "metadata": {},
     "output_type": "execute_result"
    }
   ],
   "source": [
    "Baturaja_df"
   ]
  },
  {
   "cell_type": "code",
   "execution_count": 7,
   "metadata": {},
   "outputs": [
    {
     "data": {
      "text/plain": [
       "array([[554, 'Baturaja', 'ID', 76.46, 'few clouds', -4.13, 104.17,\n",
       "        'HOTEL Sekar Sunja, Baturaja Timur, Ogan Komering Ulu']],\n",
       "      dtype=object)"
      ]
     },
     "execution_count": 7,
     "metadata": {},
     "output_type": "execute_result"
    }
   ],
   "source": [
    "# Get the “values” of the latitude and longitude for Baturaja\n",
    "Baturaja_df.values"
   ]
  },
  {
   "cell_type": "code",
   "execution_count": 8,
   "metadata": {},
   "outputs": [
    {
     "data": {
      "text/plain": [
       "array([[39, 'Bengkulu', 'ID', 78.33, 'overcast clouds', -3.8, 102.27,\n",
       "        'Grage Hotel Bengkulu']], dtype=object)"
      ]
     },
     "execution_count": 8,
     "metadata": {},
     "output_type": "execute_result"
    }
   ],
   "source": [
    "# Get the “values” of the latitude and longitude for Bengkulu\n",
    "Bengkulu_df.values"
   ]
  },
  {
   "cell_type": "code",
   "execution_count": 9,
   "metadata": {
    "scrolled": true
   },
   "outputs": [
    {
     "data": {
      "text/plain": [
       "array([[279, 'Padang', 'ID', 80.01, 'overcast clouds', -0.95, 100.35,\n",
       "        'Mercure Padang']], dtype=object)"
      ]
     },
     "execution_count": 9,
     "metadata": {},
     "output_type": "execute_result"
    }
   ],
   "source": [
    "# Get the “values” of the latitude and longitude for Padang\n",
    "Padang_df .values"
   ]
  },
  {
   "cell_type": "code",
   "execution_count": 10,
   "metadata": {},
   "outputs": [
    {
     "data": {
      "text/plain": [
       "array([[47, 'Japura', 'ID', 78.31, 'broken clouds', -0.32, 102.35,\n",
       "        'KOST dan HOMESTAY RUMAH KITA JOSH']], dtype=object)"
      ]
     },
     "execution_count": 10,
     "metadata": {},
     "output_type": "execute_result"
    }
   ],
   "source": [
    "# Get the “values” of the latitude and longitude for Japura\n",
    "Japura_df.values"
   ]
  },
  {
   "cell_type": "code",
   "execution_count": 11,
   "metadata": {
    "scrolled": false
   },
   "outputs": [
    {
     "data": {
      "application/vnd.jupyter.widget-view+json": {
       "model_id": "6f8b0e26df8143a4a64b037bc15294f4",
       "version_major": 2,
       "version_minor": 0
      },
      "text/plain": [
       "Figure(layout=FigureLayout(height='420px'))"
      ]
     },
     "metadata": {},
     "output_type": "display_data"
    }
   ],
   "source": [
    "# Latitude-longitude pairs\n",
    "Baturaja = ( -4.13, 104.17)\n",
    "Bengkulu = (-3.8, 102.27)\n",
    "Padang = (-0.95, 100.35)\n",
    "Japura = (-0.32, 102.35)\n",
    "\n",
    "#For the travel_mode, DRIVING.\n",
    "fig = gmaps.figure()\n",
    "Indonesia_vacation_via_driving= gmaps.directions_layer(Baturaja, Japura, waypoints=[Bengkulu, Padang], travel_mode=\"DRIVING\")\n",
    "fig.add_layer(Indonesia_vacation_via_driving)\n",
    "fig"
   ]
  },
  {
   "cell_type": "code",
   "execution_count": 12,
   "metadata": {
    "scrolled": true
   },
   "outputs": [
    {
     "data": {
      "text/html": [
       "<div>\n",
       "<style scoped>\n",
       "    .dataframe tbody tr th:only-of-type {\n",
       "        vertical-align: middle;\n",
       "    }\n",
       "\n",
       "    .dataframe tbody tr th {\n",
       "        vertical-align: top;\n",
       "    }\n",
       "\n",
       "    .dataframe thead th {\n",
       "        text-align: right;\n",
       "    }\n",
       "</style>\n",
       "<table border=\"1\" class=\"dataframe\">\n",
       "  <thead>\n",
       "    <tr style=\"text-align: right;\">\n",
       "      <th></th>\n",
       "      <th>index</th>\n",
       "      <th>City_ID</th>\n",
       "      <th>City</th>\n",
       "      <th>Country</th>\n",
       "      <th>Max Temp</th>\n",
       "      <th>Current Description</th>\n",
       "      <th>Lat</th>\n",
       "      <th>Lng</th>\n",
       "      <th>Hotel Name</th>\n",
       "    </tr>\n",
       "  </thead>\n",
       "  <tbody>\n",
       "    <tr>\n",
       "      <th>0</th>\n",
       "      <td>150</td>\n",
       "      <td>554</td>\n",
       "      <td>Baturaja</td>\n",
       "      <td>ID</td>\n",
       "      <td>76.46</td>\n",
       "      <td>few clouds</td>\n",
       "      <td>-4.13</td>\n",
       "      <td>104.17</td>\n",
       "      <td>HOTEL Sekar Sunja, Baturaja Timur, Ogan Komeri...</td>\n",
       "    </tr>\n",
       "    <tr>\n",
       "      <th>1</th>\n",
       "      <td>7</td>\n",
       "      <td>39</td>\n",
       "      <td>Bengkulu</td>\n",
       "      <td>ID</td>\n",
       "      <td>78.33</td>\n",
       "      <td>overcast clouds</td>\n",
       "      <td>-3.80</td>\n",
       "      <td>102.27</td>\n",
       "      <td>Grage Hotel Bengkulu</td>\n",
       "    </tr>\n",
       "    <tr>\n",
       "      <th>2</th>\n",
       "      <td>76</td>\n",
       "      <td>279</td>\n",
       "      <td>Padang</td>\n",
       "      <td>ID</td>\n",
       "      <td>80.01</td>\n",
       "      <td>overcast clouds</td>\n",
       "      <td>-0.95</td>\n",
       "      <td>100.35</td>\n",
       "      <td>Mercure Padang</td>\n",
       "    </tr>\n",
       "    <tr>\n",
       "      <th>3</th>\n",
       "      <td>10</td>\n",
       "      <td>47</td>\n",
       "      <td>Japura</td>\n",
       "      <td>ID</td>\n",
       "      <td>78.31</td>\n",
       "      <td>broken clouds</td>\n",
       "      <td>-0.32</td>\n",
       "      <td>102.35</td>\n",
       "      <td>KOST dan HOMESTAY RUMAH KITA JOSH</td>\n",
       "    </tr>\n",
       "  </tbody>\n",
       "</table>\n",
       "</div>"
      ],
      "text/plain": [
       "   index  City_ID      City Country  Max Temp Current Description   Lat  \\\n",
       "0    150      554  Baturaja      ID     76.46          few clouds -4.13   \n",
       "1      7       39  Bengkulu      ID     78.33     overcast clouds -3.80   \n",
       "2     76      279    Padang      ID     80.01     overcast clouds -0.95   \n",
       "3     10       47    Japura      ID     78.31       broken clouds -0.32   \n",
       "\n",
       "      Lng                                         Hotel Name  \n",
       "0  104.17  HOTEL Sekar Sunja, Baturaja Timur, Ogan Komeri...  \n",
       "1  102.27                               Grage Hotel Bengkulu  \n",
       "2  100.35                                     Mercure Padang  \n",
       "3  102.35                  KOST dan HOMESTAY RUMAH KITA JOSH  "
      ]
     },
     "execution_count": 12,
     "metadata": {},
     "output_type": "execute_result"
    }
   ],
   "source": [
    "#Combine the four separate DataFrames for each city into one DataFrame.\n",
    "Indonesia_vacation_df = pd.concat([Baturaja_df, Bengkulu_df, Padang_df, Japura_df])\n",
    "Indonesia_vacation_df = Indonesia_vacation_df.reset_index()\n",
    "Indonesia_vacation_df"
   ]
  },
  {
   "cell_type": "code",
   "execution_count": 13,
   "metadata": {},
   "outputs": [],
   "source": [
    "info_box_template = \"\"\"\n",
    "<dl>\n",
    "<dt>Hotel Name</dt><dd>{Hotel Name}</dd>\n",
    "<dt>City</dt><dd>{City}</dd>\n",
    "<dt>Country</dt><dd>{Country}</dd>\n",
    "<dt>Current Weather</dt><dd>{Current Description} and {Max Temp} °F</dd>\n",
    "</dl>\n",
    "\"\"\"\n",
    "# Store the DataFrame Row.\n",
    "hotel_info = [info_box_template.format(**row) for index, row in Indonesia_vacation_df.iterrows()]"
   ]
  },
  {
   "cell_type": "code",
   "execution_count": 14,
   "metadata": {
    "scrolled": false
   },
   "outputs": [
    {
     "data": {
      "application/vnd.jupyter.widget-view+json": {
       "model_id": "c23486bf1636408b9ae4ea2d061f80eb",
       "version_major": 2,
       "version_minor": 0
      },
      "text/plain": [
       "Figure(layout=FigureLayout(height='420px'))"
      ]
     },
     "metadata": {},
     "output_type": "display_data"
    }
   ],
   "source": [
    "# Create a marker layer map for the four cities.\n",
    "locations = Indonesia_vacation_df[[\"Lat\", \"Lng\"]]\n",
    "max_temp = Indonesia_vacation_df[\"Max Temp\"]\n",
    "fig = gmaps.figure()\n",
    "marker_layer = gmaps.marker_layer(locations, info_box_content=hotel_info)\n",
    "fig.add_layer(marker_layer)\n",
    "\n",
    "# Call the figure to plot the data.\n",
    "fig\n"
   ]
  },
  {
   "cell_type": "code",
   "execution_count": null,
   "metadata": {},
   "outputs": [],
   "source": []
  }
 ],
 "metadata": {
  "kernelspec": {
   "display_name": "Python 3",
   "language": "python",
   "name": "python3"
  },
  "language_info": {
   "codemirror_mode": {
    "name": "ipython",
    "version": 3
   },
   "file_extension": ".py",
   "mimetype": "text/x-python",
   "name": "python",
   "nbconvert_exporter": "python",
   "pygments_lexer": "ipython3",
   "version": "3.7.7"
  }
 },
 "nbformat": 4,
 "nbformat_minor": 4
}
